{
 "cells": [
  {
   "cell_type": "code",
   "execution_count": null,
   "metadata": {},
   "outputs": [],
   "source": [
    "# TensorFlow and tf.keras\n",
    "import tensorflow as tf\n",
    "from tensorflow import keras\n",
    "\n",
    "# Helper libraries\n",
    "import numpy as np\n",
    "import matplotlib.pyplot as plt\n",
    "\n",
    "from model.data import ds_train, ds_test, num_classes, ds_info\n",
    "from model.base_code import apply_normalize_on_dataset"
   ]
  },
  {
   "cell_type": "code",
   "execution_count": null,
   "metadata": {},
   "outputs": [],
   "source": [
    "# GPU 확인\n",
    "tf.config.list_physical_devices('GPU')"
   ]
  },
  {
   "cell_type": "code",
   "execution_count": null,
   "metadata": {},
   "outputs": [],
   "source": [
    "# 트레인 데이터셋\n",
    "ds_train_no_aug = apply_normalize_on_dataset(ds_train, with_aug=True, with_cutmix=False)\n",
    "ds_train_aug = apply_normalize_on_dataset(ds_train, with_aug=False, with_cutmix=False)\n",
    "ds_train_no_cutmix = apply_normalize_on_dataset(ds_train, with_aug=False, with_cutmix=False)\n",
    "ds_train_cutmix = apply_normalize_on_dataset(ds_train, with_aug=False, with_cutmix=True)\n",
    "ds_train_aug_cutmix = apply_normalize_on_dataset(ds_train, with_aug=True, with_cutmix=True)\n",
    "\n",
    "# 테스트 데이터셋\n",
    "ds_test = apply_normalize_on_dataset(ds_test, is_test=True)"
   ]
  },
  {
   "cell_type": "code",
   "execution_count": null,
   "metadata": {},
   "outputs": [],
   "source": [
    "from model.data import resnet50 as resnet50_no_aug\n",
    "from model.data import resnet50 as resnet50_aug\n",
    "from model.data import resnet50 as resnet50_no_cutmix\n",
    "from model.data import resnet50 as resnet50_cutmix\n",
    "from model.data import resnet50 as resnet50_aug_cutmix\n",
    "\n",
    "EPOCH = 20"
   ]
  },
  {
   "cell_type": "code",
   "execution_count": null,
   "metadata": {},
   "outputs": [],
   "source": [
    "model_list = [resnet50_no_aug, resnet50_aug, resnet50_no_cutmix, resnet50_cutmix, resnet50_aug_cutmix]\n",
    "history_list = []\n",
    "\n",
    "for res_model in model_list:\n",
    "    res_model.compile(\n",
    "        loss='categorical_crossentropy',\n",
    "        optimizer=tf.keras.optimizers.SGD(lr=0.01, clipnorm=1.),\n",
    "        metrics=['accuracy'],\n",
    "    )\n",
    "    history_list.append(f'history_{res_model}')\n",
    "\n",
    "for history in history_list:\n",
    "    history = res_model.fit(\n",
    "        ds_train_no_aug,\n",
    "        steps_per_epoch=int(ds_info.splits['train'].num_examples/16),\n",
    "        validation_steps=int(ds_info.splits['test'].num_examples/16),\n",
    "        epochs=EPOCH,\n",
    "        validation_data=ds_test,\n",
    "        verbose=1,\n",
    "        use_multiprocessing=True,\n",
    "    )    \n"
   ]
  },
  {
   "cell_type": "code",
   "execution_count": null,
   "metadata": {},
   "outputs": [],
   "source": [
    "plt.figure(figsize=(12, 4))\n",
    "\n",
    "plt.subplot(1, 2, 1)\n",
    "plt.plot(history_list[0].history['loss'], 'b-', label='loss')\n",
    "plt.plot(history_list[0].history['val_loss'], 'r--', label='val_loss')\n",
    "plt.xlabel('Epoch')\n",
    "plt.legend()\n",
    "\n",
    "plt.subplot(1, 2, 2)\n",
    "plt.plot(history_list[0].history['accuracy'], 'g-', label='accuracy')\n",
    "plt.plot(history_list[0].history['val_accuracy'], 'k--', label='val_accuracy')\n",
    "plt.xlabel('Epoch')\n",
    "plt.legend()"
   ]
  }
 ],
 "metadata": {
  "language_info": {
   "name": "python"
  }
 },
 "nbformat": 4,
 "nbformat_minor": 2
}
