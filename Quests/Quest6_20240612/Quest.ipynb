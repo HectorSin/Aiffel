{
 "cells": [
  {
   "cell_type": "code",
   "execution_count": 1,
   "id": "9c01e1da",
   "metadata": {},
   "outputs": [
    {
     "name": "stdout",
     "output_type": "stream",
     "text": [
      "1.3.3\n",
      "0.5.2\n",
      "4.1.2\n"
     ]
    }
   ],
   "source": [
    "import pandas\n",
    "import konlpy\n",
    "import gensim\n",
    "\n",
    "print(pandas.__version__)\n",
    "print(konlpy.__version__)\n",
    "print(gensim.__version__)"
   ]
  },
  {
   "cell_type": "markdown",
   "id": "06c22653",
   "metadata": {},
   "source": [
    "# 1. 데이터 준비 및 확인"
   ]
  },
  {
   "cell_type": "code",
   "execution_count": 2,
   "id": "38bdfdd8",
   "metadata": {},
   "outputs": [
    {
     "data": {
      "text/html": [
       "<div>\n",
       "<style scoped>\n",
       "    .dataframe tbody tr th:only-of-type {\n",
       "        vertical-align: middle;\n",
       "    }\n",
       "\n",
       "    .dataframe tbody tr th {\n",
       "        vertical-align: top;\n",
       "    }\n",
       "\n",
       "    .dataframe thead th {\n",
       "        text-align: right;\n",
       "    }\n",
       "</style>\n",
       "<table border=\"1\" class=\"dataframe\">\n",
       "  <thead>\n",
       "    <tr style=\"text-align: right;\">\n",
       "      <th></th>\n",
       "      <th>id</th>\n",
       "      <th>document</th>\n",
       "      <th>label</th>\n",
       "    </tr>\n",
       "  </thead>\n",
       "  <tbody>\n",
       "    <tr>\n",
       "      <th>0</th>\n",
       "      <td>9976970</td>\n",
       "      <td>아 더빙.. 진짜 짜증나네요 목소리</td>\n",
       "      <td>0</td>\n",
       "    </tr>\n",
       "    <tr>\n",
       "      <th>1</th>\n",
       "      <td>3819312</td>\n",
       "      <td>흠...포스터보고 초딩영화줄....오버연기조차 가볍지 않구나</td>\n",
       "      <td>1</td>\n",
       "    </tr>\n",
       "    <tr>\n",
       "      <th>2</th>\n",
       "      <td>10265843</td>\n",
       "      <td>너무재밓었다그래서보는것을추천한다</td>\n",
       "      <td>0</td>\n",
       "    </tr>\n",
       "    <tr>\n",
       "      <th>3</th>\n",
       "      <td>9045019</td>\n",
       "      <td>교도소 이야기구먼 ..솔직히 재미는 없다..평점 조정</td>\n",
       "      <td>0</td>\n",
       "    </tr>\n",
       "    <tr>\n",
       "      <th>4</th>\n",
       "      <td>6483659</td>\n",
       "      <td>사이몬페그의 익살스런 연기가 돋보였던 영화!스파이더맨에서 늙어보이기만 했던 커스틴 ...</td>\n",
       "      <td>1</td>\n",
       "    </tr>\n",
       "  </tbody>\n",
       "</table>\n",
       "</div>"
      ],
      "text/plain": [
       "         id                                           document  label\n",
       "0   9976970                                아 더빙.. 진짜 짜증나네요 목소리      0\n",
       "1   3819312                  흠...포스터보고 초딩영화줄....오버연기조차 가볍지 않구나      1\n",
       "2  10265843                                  너무재밓었다그래서보는것을추천한다      0\n",
       "3   9045019                      교도소 이야기구먼 ..솔직히 재미는 없다..평점 조정      0\n",
       "4   6483659  사이몬페그의 익살스런 연기가 돋보였던 영화!스파이더맨에서 늙어보이기만 했던 커스틴 ...      1"
      ]
     },
     "execution_count": 2,
     "metadata": {},
     "output_type": "execute_result"
    }
   ],
   "source": [
    "import pandas as pd\n",
    "\n",
    "# 데이터를 읽어봅시다. \n",
    "train_data = pd.read_table('~/aiffel/sentiment_classification/data/ratings_train.txt')\n",
    "test_data = pd.read_table('~/aiffel/sentiment_classification/data/ratings_test.txt')\n",
    "\n",
    "train_data.head()"
   ]
  },
  {
   "cell_type": "markdown",
   "id": "32c68a4c",
   "metadata": {},
   "source": [
    "# 2. 데이터 로더 생성"
   ]
  },
  {
   "cell_type": "code",
   "execution_count": 3,
   "id": "ab4385e6",
   "metadata": {},
   "outputs": [],
   "source": [
    "from konlpy.tag import Mecab\n",
    "import numpy as np\n",
    "from collections import Counter\n",
    "\n",
    "tokenizer = Mecab()\n",
    "stopwords = ['의','가','이','은','들','는','좀','잘','걍','과','도','를','으로','자','에','와','한','하다']\n",
    "num_words = 10000\n",
    "\n",
    "def load_data(train_data, test_data, num_words=num_words):\n",
    "    # 데이터 중복 제거\n",
    "    train_data.drop_duplicates(subset=['document'], inplace=True)\n",
    "    # NaN 결측치 제거\n",
    "    train_data = train_data.dropna(how='any')\n",
    "    # test_data에도 적용\n",
    "    test_data.drop_duplicates(subset=['document'], inplace=True)\n",
    "    test_data = test_data.dropna(how='any')\n",
    "\n",
    "    X_train = []\n",
    "    for sentence in train_data['document']:\n",
    "        # 토큰화\n",
    "        temp_X = tokenizer.morphs(sentence)\n",
    "        # 불용어 제거\n",
    "        temp_X = [word for word in temp_X if not word in stopwords]\n",
    "        X_train.append(temp_X)\n",
    "\n",
    "    X_test = []\n",
    "    for sentence in test_data['document']:\n",
    "        temp_X = tokenizer.morphs(sentence)\n",
    "        temp_X = [word for word in temp_X if not word in stopwords]\n",
    "        X_test.append(temp_X)\n",
    "\n",
    "    # 사전 word_to_index 구성\n",
    "    words = np.concatenate(X_train).tolist()\n",
    "    # 텍스트 스트링을 사전 인덱스 스트링으로 변환\n",
    "    counter = Counter(words)\n",
    "    counter = counter.most_common(10000-4)\n",
    "    vocab = ['', '', '', ''] + [key for key, _ in counter]\n",
    "    word_to_index = {word:index for index, word in enumerate(vocab)}\n",
    "    \n",
    "    def wordlist_to_indexlist(wordlist):\n",
    "        return [word_to_index[word] if word in word_to_index else word_to_index[''] for word in wordlist]\n",
    "    \n",
    "    X_train = list(map(wordlist_to_indexlist, X_train))\n",
    "    X_test = list(map(wordlist_to_indexlist, X_test))\n",
    "\n",
    "    return X_train, np.array(list(train_data['label'])), X_test, np.array(list(test_data['label'])), word_to_index"
   ]
  },
  {
   "cell_type": "code",
   "execution_count": 4,
   "id": "3ce2d84f",
   "metadata": {},
   "outputs": [],
   "source": [
    "# X_train, y_train, X_test, y_test, word_to_index 리턴\n",
    "X_train, y_train, X_test, y_test, word_to_index = load_data(train_data, test_data)"
   ]
  },
  {
   "cell_type": "code",
   "execution_count": 5,
   "id": "f3270ae9",
   "metadata": {},
   "outputs": [],
   "source": [
    "index_to_word = {index:word for word, index in word_to_index.items()}"
   ]
  },
  {
   "cell_type": "code",
   "execution_count": 6,
   "id": "8e9c9e54",
   "metadata": {},
   "outputs": [],
   "source": [
    "# 문장 1개를 활용할 딕셔너리와 함께 주면, 단어 인덱스 리스트 벡터로 변환해 주는 함수입니다. \n",
    "# 단, 모든 문장은 <BOS>로 시작하는 것으로 합니다. \n",
    "def get_encoded_sentence(sentence, word_to_index):\n",
    "    return [word_to_index['<BOS>']]+[word_to_index[word] if word in word_to_index else word_to_index['<UNK>'] for word in sentence.split()]\n",
    "\n",
    "# 여러 개의 문장 리스트를 한꺼번에 단어 인덱스 리스트 벡터로 encode해 주는 함수입니다. \n",
    "def get_encoded_sentences(sentences, word_to_index):\n",
    "    return [get_encoded_sentence(sentence, word_to_index) for sentence in sentences]\n",
    "\n",
    "# 숫자 벡터로 encode된 문장을 원래대로 decode하는 함수입니다. \n",
    "def get_decoded_sentence(encoded_sentence, index_to_word):\n",
    "    return ' '.join(index_to_word[index] if index in index_to_word else '<UNK>' for index in encoded_sentence[1:])  #[1:]를 통해 <BOS>를 제외\n",
    "\n",
    "# 여러 개의 숫자 벡터로 encode된 문장을 한꺼번에 원래대로 decode하는 함수입니다. \n",
    "def get_decoded_sentences(encoded_sentences, index_to_word):\n",
    "    return [get_decoded_sentence(encoded_sentence, index_to_word) for encoded_sentence in encoded_sentences]"
   ]
  },
  {
   "cell_type": "code",
   "execution_count": 7,
   "id": "b042ea0e",
   "metadata": {},
   "outputs": [
    {
     "name": "stdout",
     "output_type": "stream",
     "text": [
      "문장 최대 길이 : 41\n",
      "전체 문장의 평균 길이 : 15.96940191154864\n",
      "전체 문장의 길이 표준편차 : 12.843571191092\n"
     ]
    }
   ],
   "source": [
    "from tensorflow import keras\n",
    "\n",
    "# 데이터셋 내 문장 길이 분포\n",
    "total_data_text = list(X_train) + list(X_test)\n",
    "num_tokens = [len(tokens) for tokens in total_data_text]\n",
    "num_tokens = np.array(num_tokens)\n",
    "max_tokens = np.mean(num_tokens) + 2 * np.std(num_tokens)\n",
    "# 적절한 최대 문장 길이 지정\n",
    "maxlen = int(max_tokens)\n",
    "print('문장 최대 길이 :', maxlen)\n",
    "print('전체 문장의 평균 길이 :', np.mean(num_tokens))\n",
    "print('전체 문장의 길이 표준편차 :', np.std(num_tokens))\n",
    "# keras.preprocessing.sequence.pad_sequences을 활용한 패딩 추가\n",
    "X_train = keras.preprocessing.sequence.pad_sequences(X_train,\n",
    "                                                        value=word_to_index[\"\"],\n",
    "                                                        padding='post', # 혹은 'pre'\n",
    "                                                        maxlen=maxlen)"
   ]
  },
  {
   "cell_type": "code",
   "execution_count": 8,
   "id": "863015b9",
   "metadata": {},
   "outputs": [
    {
     "name": "stdout",
     "output_type": "stream",
     "text": [
      "Model: \"sequential\"\n",
      "_________________________________________________________________\n",
      "Layer (type)                 Output Shape              Param #   \n",
      "=================================================================\n",
      "embedding (Embedding)        (None, None, 16)          160000    \n",
      "_________________________________________________________________\n",
      "lstm (LSTM)                  (None, 8)                 800       \n",
      "_________________________________________________________________\n",
      "dense (Dense)                (None, 8)                 72        \n",
      "_________________________________________________________________\n",
      "dense_1 (Dense)              (None, 1)                 9         \n",
      "=================================================================\n",
      "Total params: 160,881\n",
      "Trainable params: 160,881\n",
      "Non-trainable params: 0\n",
      "_________________________________________________________________\n"
     ]
    }
   ],
   "source": [
    "X_test = keras.preprocessing.sequence.pad_sequences(X_test, \n",
    "                                                       value=word_to_index[\"\"],\n",
    "                                                       padding='post', # 혹은 'pre'\n",
    "                                                       maxlen=maxlen)\n",
    "\n",
    "# 모델 구성\n",
    "vocab_size = num_words\n",
    "word_vector_dim = 16\n",
    "\n",
    "model = keras.Sequential()\n",
    "model.add(keras.layers.Embedding(vocab_size, word_vector_dim, input_shape=(None,)))\n",
    "model.add(keras.layers.LSTM(8))   # 가장 널리 쓰이는 RNN인 LSTM 레이어를 사용하였습니다. 이때 LSTM state 벡터의 차원수는 8로 하였습니다. (변경 가능)\n",
    "model.add(keras.layers.Dense(8, activation='relu'))\n",
    "model.add(keras.layers.Dense(1, activation='sigmoid'))  # 최종 출력은 긍정/부정을 나타내는 1dim 입니다.\n",
    "\n",
    "model.summary()"
   ]
  },
  {
   "cell_type": "markdown",
   "id": "e158dd9a",
   "metadata": {},
   "source": [
    "# 3. 모델 구성을 위한 데이터 분석 및 가공"
   ]
  },
  {
   "cell_type": "code",
   "execution_count": 9,
   "id": "d5ef7674",
   "metadata": {},
   "outputs": [
    {
     "name": "stdout",
     "output_type": "stream",
     "text": [
      "문장 최대 길이 : 41\n",
      "전체 문장의 평균 길이 : 41.0\n",
      "전체 문장의 길이 표준편차 : 0.0\n"
     ]
    }
   ],
   "source": [
    "from tensorflow import keras\n",
    "\n",
    "# 데이터셋 내 문장 길이 분포\n",
    "total_data_text = list(X_train) + list(X_test)\n",
    "num_tokens = [len(tokens) for tokens in total_data_text]\n",
    "num_tokens = np.array(num_tokens)\n",
    "max_tokens = np.mean(num_tokens) + 2 * np.std(num_tokens)\n",
    "# 적절한 최대 문장 길이 지정\n",
    "maxlen = int(max_tokens)\n",
    "print('문장 최대 길이 :', maxlen)\n",
    "print('전체 문장의 평균 길이 :', np.mean(num_tokens))\n",
    "print('전체 문장의 길이 표준편차 :', np.std(num_tokens))\n",
    "# keras.preprocessing.sequence.pad_sequences을 활용한 패딩 추가\n",
    "X_train = keras.preprocessing.sequence.pad_sequences(X_train,\n",
    "                                                        value=word_to_index[\"\"],\n",
    "                                                        padding='post', # 혹은 'pre'\n",
    "                                                        maxlen=maxlen)"
   ]
  },
  {
   "cell_type": "markdown",
   "id": "d30a94e4",
   "metadata": {},
   "source": [
    "# 4. 모델 구성 및 validation set 구성"
   ]
  },
  {
   "cell_type": "code",
   "execution_count": 10,
   "id": "c6f34002",
   "metadata": {},
   "outputs": [],
   "source": [
    "# validation set 구성\n",
    "from sklearn.model_selection import train_test_split\n",
    "\n",
    "X_train, X_val, y_train, y_val = train_test_split(X_train, y_train, test_size=0.2, random_state=42)"
   ]
  },
  {
   "cell_type": "code",
   "execution_count": 11,
   "id": "c7607bcd",
   "metadata": {},
   "outputs": [
    {
     "name": "stdout",
     "output_type": "stream",
     "text": [
      "Model: \"sequential_1\"\n",
      "_________________________________________________________________\n",
      "Layer (type)                 Output Shape              Param #   \n",
      "=================================================================\n",
      "embedding_1 (Embedding)      (None, None, 16)          160000    \n",
      "_________________________________________________________________\n",
      "lstm_1 (LSTM)                (None, 8)                 800       \n",
      "_________________________________________________________________\n",
      "dense_2 (Dense)              (None, 8)                 72        \n",
      "_________________________________________________________________\n",
      "dense_3 (Dense)              (None, 1)                 9         \n",
      "=================================================================\n",
      "Total params: 160,881\n",
      "Trainable params: 160,881\n",
      "Non-trainable params: 0\n",
      "_________________________________________________________________\n"
     ]
    }
   ],
   "source": [
    "# 모델 구성\n",
    "vocab_size = num_words\n",
    "word_vector_dim = 16\n",
    "\n",
    "model = keras.Sequential()\n",
    "model.add(keras.layers.Embedding(vocab_size, word_vector_dim, input_shape=(None,)))\n",
    "model.add(keras.layers.LSTM(8))   # 가장 널리 쓰이는 RNN인 LSTM 레이어를 사용하였습니다. 이때 LSTM state 벡터의 차원수는 8로 하였습니다. (변경 가능)\n",
    "model.add(keras.layers.Dense(8, activation='relu'))\n",
    "model.add(keras.layers.Dense(1, activation='sigmoid'))  # 최종 출력은 긍정/부정을 나타내는 1dim 입니다.\n",
    "\n",
    "model.summary()"
   ]
  },
  {
   "cell_type": "markdown",
   "id": "03c9d089",
   "metadata": {},
   "source": [
    "# 5. 모델 훈련 개시"
   ]
  },
  {
   "cell_type": "code",
   "execution_count": 12,
   "id": "c4f92ab8",
   "metadata": {},
   "outputs": [
    {
     "name": "stdout",
     "output_type": "stream",
     "text": [
      "Epoch 1/20\n",
      "229/229 [==============================] - 6s 9ms/step - loss: 0.5904 - accuracy: 0.6683 - val_loss: 0.4137 - val_accuracy: 0.8261\n",
      "Epoch 2/20\n",
      "229/229 [==============================] - 2s 7ms/step - loss: 0.3583 - accuracy: 0.8489 - val_loss: 0.3574 - val_accuracy: 0.8458\n",
      "Epoch 3/20\n",
      "229/229 [==============================] - 2s 7ms/step - loss: 0.3210 - accuracy: 0.8653 - val_loss: 0.3583 - val_accuracy: 0.8462\n",
      "Epoch 4/20\n",
      "229/229 [==============================] - 2s 7ms/step - loss: 0.3047 - accuracy: 0.8719 - val_loss: 0.3571 - val_accuracy: 0.8462\n",
      "Epoch 5/20\n",
      "229/229 [==============================] - 2s 7ms/step - loss: 0.2927 - accuracy: 0.8762 - val_loss: 0.3555 - val_accuracy: 0.8463\n",
      "Epoch 6/20\n",
      "229/229 [==============================] - 2s 7ms/step - loss: 0.2808 - accuracy: 0.8799 - val_loss: 0.3911 - val_accuracy: 0.8460\n",
      "Epoch 7/20\n",
      "229/229 [==============================] - 2s 7ms/step - loss: 0.2704 - accuracy: 0.8825 - val_loss: 0.3868 - val_accuracy: 0.8449\n",
      "Epoch 8/20\n",
      "229/229 [==============================] - 2s 7ms/step - loss: 0.2613 - accuracy: 0.8847 - val_loss: 0.3895 - val_accuracy: 0.8438\n",
      "Epoch 9/20\n",
      "229/229 [==============================] - 2s 7ms/step - loss: 0.2531 - accuracy: 0.8862 - val_loss: 0.3934 - val_accuracy: 0.8428\n",
      "Epoch 10/20\n",
      "229/229 [==============================] - 2s 7ms/step - loss: 0.2469 - accuracy: 0.8882 - val_loss: 0.4214 - val_accuracy: 0.8438\n",
      "Epoch 11/20\n",
      "229/229 [==============================] - 1s 7ms/step - loss: 0.2443 - accuracy: 0.8888 - val_loss: 0.4320 - val_accuracy: 0.8435\n",
      "Epoch 12/20\n",
      "229/229 [==============================] - 1s 6ms/step - loss: 0.2369 - accuracy: 0.8907 - val_loss: 0.4258 - val_accuracy: 0.8423\n",
      "Epoch 13/20\n",
      "229/229 [==============================] - 1s 6ms/step - loss: 0.2307 - accuracy: 0.8927 - val_loss: 0.4367 - val_accuracy: 0.8416\n",
      "Epoch 14/20\n",
      "229/229 [==============================] - 1s 6ms/step - loss: 0.2249 - accuracy: 0.8946 - val_loss: 0.4451 - val_accuracy: 0.8378\n",
      "Epoch 15/20\n",
      "229/229 [==============================] - 1s 6ms/step - loss: 0.2236 - accuracy: 0.8941 - val_loss: 0.4482 - val_accuracy: 0.8412\n",
      "Epoch 16/20\n",
      "229/229 [==============================] - 1s 6ms/step - loss: 0.2209 - accuracy: 0.8945 - val_loss: 0.4694 - val_accuracy: 0.8412\n",
      "Epoch 17/20\n",
      "229/229 [==============================] - 1s 6ms/step - loss: 0.2144 - accuracy: 0.8971 - val_loss: 0.4762 - val_accuracy: 0.8414\n",
      "Epoch 18/20\n",
      "229/229 [==============================] - 1s 7ms/step - loss: 0.2111 - accuracy: 0.8978 - val_loss: 0.4599 - val_accuracy: 0.8411\n",
      "Epoch 19/20\n",
      "229/229 [==============================] - 2s 7ms/step - loss: 0.2069 - accuracy: 0.8994 - val_loss: 0.4765 - val_accuracy: 0.8414\n",
      "Epoch 20/20\n",
      "229/229 [==============================] - 2s 7ms/step - loss: 0.2039 - accuracy: 0.8996 - val_loss: 0.4930 - val_accuracy: 0.8368\n"
     ]
    }
   ],
   "source": [
    "# 모델 훈련 개시\n",
    "model.compile(optimizer='adam',\n",
    "              loss='binary_crossentropy',\n",
    "              metrics=['accuracy'])\n",
    "\n",
    "history = model.fit(X_train, y_train, epochs=20, batch_size=512, validation_data=(X_test, y_test), verbose=1)"
   ]
  },
  {
   "cell_type": "markdown",
   "id": "3374deb1",
   "metadata": {},
   "source": [
    "# 6. Loss, Accuracy 그래프 시각화"
   ]
  },
  {
   "cell_type": "code",
   "execution_count": 13,
   "id": "76089154",
   "metadata": {},
   "outputs": [
    {
     "name": "stdout",
     "output_type": "stream",
     "text": [
      "dict_keys(['loss', 'accuracy', 'val_loss', 'val_accuracy'])\n"
     ]
    },
    {
     "data": {
      "image/png": "[encoded data removed]",
      "text/plain": [
       "<Figure size 432x288 with 1 Axes>"
      ]
     },
     "metadata": {
      "needs_background": "light"
     },
     "output_type": "display_data"
    }
   ],
   "source": [
    "# Loss, Accuracy 그래프 시각화\n",
    "import matplotlib.pyplot as plt\n",
    "\n",
    "history_dict = history.history\n",
    "print(history_dict.keys()) # epoch에 따른 그래프를 그려볼 수 있는 항목들\n",
    "\n",
    "acc = history_dict['accuracy']\n",
    "val_acc = history_dict['val_accuracy']\n",
    "loss = history_dict['loss']\n",
    "val_loss = history_dict['val_loss']\n",
    "\n",
    "epochs = range(1, len(acc) + 1)\n",
    "\n",
    "# \"bo\"는 \"파란색 점\"입니다\n",
    "plt.plot(epochs, loss, 'bo', label='Training loss')\n",
    "# b는 \"파란 실선\"입니다\n",
    "plt.plot(epochs, val_loss, 'b', label='Validation loss')\n",
    "plt.title('Training and validation loss')\n",
    "plt.xlabel('Epochs')\n",
    "plt.ylabel('Loss')\n",
    "plt.legend()\n",
    "plt.show()"
   ]
  },
  {
   "cell_type": "code",
   "execution_count": 14,
   "id": "a51b9cdd",
   "metadata": {},
   "outputs": [
    {
     "name": "stdout",
     "output_type": "stream",
     "text": [
      "Accuracy: 83.68%\n"
     ]
    }
   ],
   "source": [
    "loss, accuracy = model.evaluate(X_test, y_test, verbose=0)\n",
    "print(f'Accuracy: {accuracy*100:.2f}%')"
   ]
  },
  {
   "cell_type": "markdown",
   "id": "16d1f3ee",
   "metadata": {},
   "source": [
    "# 7. 학습된 Embedding 레이어 분석"
   ]
  },
  {
   "cell_type": "code",
   "execution_count": 15,
   "id": "9b49e290",
   "metadata": {},
   "outputs": [
    {
     "name": "stdout",
     "output_type": "stream",
     "text": [
      "1537/1537 - 3s - loss: 0.4930 - accuracy: 0.8368\n",
      "[0.49301064014434814, 0.8368492722511292]\n",
      "(10000, 16)\n"
     ]
    }
   ],
   "source": [
    "# 테스트셋을 통한 모델 평가\n",
    "results = model.evaluate(X_test,  y_test, verbose=2)\n",
    "\n",
    "print(results)\n",
    "\n",
    "# 학습된 Embedding 레이어 분석\n",
    "embedding_layer = model.layers[0]\n",
    "weights = embedding_layer.get_weights()[0]\n",
    "print(weights.shape)    # shape: (vocab_size, embedding_dim)"
   ]
  },
  {
   "cell_type": "markdown",
   "id": "66940902",
   "metadata": {},
   "source": [
    "# 8. 한국어 Word2Vec 임베딩 활용하여 성능 개선"
   ]
  },
  {
   "cell_type": "code",
   "execution_count": 16,
   "id": "fed6b121",
   "metadata": {},
   "outputs": [],
   "source": [
    "# Word2Vec 임베딩 활용하여 성능 개선\n",
    "import os\n",
    "import gensim\n",
    "word2vec_path = os.getenv('HOME')+'/data/word2vec_ko.model'\n",
    "word2vec = gensim.models.Word2Vec.load(word2vec_path)\n",
    "\n",
    "vocab_size = len(word_to_index) + 1\n",
    "word_vector_dim = 100\n",
    "\n",
    "embedding_matrix = np.random.rand(vocab_size, word_vector_dim)\n",
    "\n",
    "# embedding_matrix에 Word2Vec 워드 벡터를 단어 하나씩마다 차례차례 카피\n",
    "for i in range(4,vocab_size):\n",
    "    if index_to_word[i] in word2vec.wv:\n",
    "        embedding_matrix[i] = word2vec.wv[index_to_word[i]]"
   ]
  },
  {
   "cell_type": "code",
   "execution_count": 17,
   "id": "e682a5dc",
   "metadata": {},
   "outputs": [
    {
     "name": "stdout",
     "output_type": "stream",
     "text": [
      "Model: \"sequential_2\"\n",
      "_________________________________________________________________\n",
      "Layer (type)                 Output Shape              Param #   \n",
      "=================================================================\n",
      "embedding_2 (Embedding)      (None, 41, 100)           999800    \n",
      "_________________________________________________________________\n",
      "lstm_2 (LSTM)                (None, 8)                 3488      \n",
      "_________________________________________________________________\n",
      "dense_4 (Dense)              (None, 8)                 72        \n",
      "_________________________________________________________________\n",
      "dense_5 (Dense)              (None, 1)                 9         \n",
      "=================================================================\n",
      "Total params: 1,003,369\n",
      "Trainable params: 1,003,369\n",
      "Non-trainable params: 0\n",
      "_________________________________________________________________\n"
     ]
    }
   ],
   "source": [
    "model = keras.Sequential()\n",
    "model.add(keras.layers.Embedding(vocab_size, \n",
    "                                 word_vector_dim, \n",
    "                                 embeddings_initializer=keras.initializers.Constant(embedding_matrix),  # 카피한 임베딩을 여기서 활용\n",
    "                                 input_length=maxlen, \n",
    "                                 trainable=True))   # trainable을 True로 주면 Fine-tuning\n",
    "\n",
    "model.add(keras.layers.LSTM(8))\n",
    "model.add(keras.layers.Dense(8, activation='relu'))\n",
    "model.add(keras.layers.Dense(1, activation='sigmoid'))  # 최종 출력은 긍정/부정을 나타내는 1dim 입니다.\n",
    "\n",
    "model.summary()"
   ]
  },
  {
   "cell_type": "code",
   "execution_count": 18,
   "id": "fe1d5c39",
   "metadata": {},
   "outputs": [
    {
     "name": "stdout",
     "output_type": "stream",
     "text": [
      "Epoch 1/20\n",
      "229/229 [==============================] - 4s 10ms/step - loss: 0.6929 - accuracy: 0.5058 - val_loss: 0.6926 - val_accuracy: 0.5017\n",
      "Epoch 2/20\n",
      "229/229 [==============================] - 2s 7ms/step - loss: 0.6713 - accuracy: 0.5780 - val_loss: 0.6247 - val_accuracy: 0.6595\n",
      "Epoch 3/20\n",
      "229/229 [==============================] - 2s 7ms/step - loss: 0.5252 - accuracy: 0.7455 - val_loss: 0.4499 - val_accuracy: 0.7978\n",
      "Epoch 4/20\n",
      "229/229 [==============================] - 2s 7ms/step - loss: 0.4054 - accuracy: 0.8218 - val_loss: 0.4049 - val_accuracy: 0.8208\n",
      "Epoch 5/20\n",
      "229/229 [==============================] - 2s 7ms/step - loss: 0.3622 - accuracy: 0.8445 - val_loss: 0.3872 - val_accuracy: 0.8303\n",
      "Epoch 6/20\n",
      "229/229 [==============================] - 2s 7ms/step - loss: 0.3393 - accuracy: 0.8564 - val_loss: 0.3774 - val_accuracy: 0.8360\n",
      "Epoch 7/20\n",
      "229/229 [==============================] - 2s 7ms/step - loss: 0.3220 - accuracy: 0.8643 - val_loss: 0.3754 - val_accuracy: 0.8377\n",
      "Epoch 8/20\n",
      "229/229 [==============================] - 2s 7ms/step - loss: 0.3095 - accuracy: 0.8709 - val_loss: 0.3744 - val_accuracy: 0.8375\n",
      "Epoch 9/20\n",
      "229/229 [==============================] - 2s 7ms/step - loss: 0.2991 - accuracy: 0.8765 - val_loss: 0.3739 - val_accuracy: 0.8386\n",
      "Epoch 10/20\n",
      "229/229 [==============================] - 2s 7ms/step - loss: 0.2909 - accuracy: 0.8806 - val_loss: 0.3733 - val_accuracy: 0.8402\n",
      "Epoch 11/20\n",
      "229/229 [==============================] - 2s 7ms/step - loss: 0.2818 - accuracy: 0.8853 - val_loss: 0.3761 - val_accuracy: 0.8406\n",
      "Epoch 12/20\n",
      "229/229 [==============================] - 2s 7ms/step - loss: 0.2738 - accuracy: 0.8894 - val_loss: 0.3827 - val_accuracy: 0.8397\n",
      "Epoch 13/20\n",
      "229/229 [==============================] - 2s 7ms/step - loss: 0.2667 - accuracy: 0.8935 - val_loss: 0.3866 - val_accuracy: 0.8409\n",
      "Epoch 14/20\n",
      "229/229 [==============================] - 2s 7ms/step - loss: 0.2602 - accuracy: 0.8962 - val_loss: 0.3880 - val_accuracy: 0.8405\n",
      "Epoch 15/20\n",
      "229/229 [==============================] - 2s 7ms/step - loss: 0.2535 - accuracy: 0.8997 - val_loss: 0.3890 - val_accuracy: 0.8386\n",
      "Epoch 16/20\n",
      "229/229 [==============================] - 2s 7ms/step - loss: 0.2473 - accuracy: 0.9032 - val_loss: 0.3939 - val_accuracy: 0.8395\n",
      "Epoch 17/20\n",
      "229/229 [==============================] - 2s 7ms/step - loss: 0.2417 - accuracy: 0.9060 - val_loss: 0.3945 - val_accuracy: 0.8399\n",
      "Epoch 18/20\n",
      "229/229 [==============================] - 2s 7ms/step - loss: 0.2352 - accuracy: 0.9100 - val_loss: 0.4047 - val_accuracy: 0.8396\n",
      "Epoch 19/20\n",
      "229/229 [==============================] - 2s 7ms/step - loss: 0.2290 - accuracy: 0.9127 - val_loss: 0.4075 - val_accuracy: 0.8391\n",
      "Epoch 20/20\n",
      "229/229 [==============================] - 2s 7ms/step - loss: 0.2248 - accuracy: 0.9144 - val_loss: 0.4157 - val_accuracy: 0.8392\n"
     ]
    }
   ],
   "source": [
    "# 모델 훈련 개시\n",
    "model.compile(optimizer='adam',\n",
    "              loss='binary_crossentropy',\n",
    "              metrics=['accuracy'])\n",
    "\n",
    "history = model.fit(X_train, y_train, epochs=20, batch_size=512, validation_data=(X_test, y_test), verbose=1)"
   ]
  },
  {
   "cell_type": "code",
   "execution_count": 19,
   "id": "d8c356d1",
   "metadata": {},
   "outputs": [
    {
     "name": "stdout",
     "output_type": "stream",
     "text": [
      "dict_keys(['loss', 'accuracy', 'val_loss', 'val_accuracy'])\n"
     ]
    },
    {
     "data": {
      "image/png": "[encoded data removed]",
      "text/plain": [
       "<Figure size 432x288 with 1 Axes>"
      ]
     },
     "metadata": {
      "needs_background": "light"
     },
     "output_type": "display_data"
    }
   ],
   "source": [
    "# Loss, Accuracy 그래프 시각화\n",
    "import matplotlib.pyplot as plt\n",
    "\n",
    "history_dict = history.history\n",
    "print(history_dict.keys()) # epoch에 따른 그래프를 그려볼 수 있는 항목들\n",
    "\n",
    "acc = history_dict['accuracy']\n",
    "val_acc = history_dict['val_accuracy']\n",
    "loss = history_dict['loss']\n",
    "val_loss = history_dict['val_loss']\n",
    "\n",
    "epochs = range(1, len(acc) + 1)\n",
    "\n",
    "# \"bo\"는 \"파란색 점\"입니다\n",
    "plt.plot(epochs, loss, 'bo', label='Training loss')\n",
    "# b는 \"파란 실선\"입니다\n",
    "plt.plot(epochs, val_loss, 'b', label='Validation loss')\n",
    "plt.title('Training and validation loss')\n",
    "plt.xlabel('Epochs')\n",
    "plt.ylabel('Loss')\n",
    "plt.legend()\n",
    "plt.show()"
   ]
  },
  {
   "cell_type": "code",
   "execution_count": 20,
   "id": "72414a4e",
   "metadata": {},
   "outputs": [
    {
     "name": "stdout",
     "output_type": "stream",
     "text": [
      "Accuracy: 83.92%\n"
     ]
    }
   ],
   "source": [
    "loss, accuracy = model.evaluate(X_test, y_test, verbose=0)\n",
    "print(f'Accuracy: {accuracy*100:.2f}%')"
   ]
  },
  {
   "cell_type": "markdown",
   "id": "bef5e66a",
   "metadata": {},
   "source": [
    "# 별도\n",
    "여러 모델 시도"
   ]
  },
  {
   "cell_type": "code",
   "execution_count": 23,
   "id": "aea41367",
   "metadata": {},
   "outputs": [
    {
     "name": "stdout",
     "output_type": "stream",
     "text": [
      "Model: \"sequential_4\"\n",
      "_________________________________________________________________\n",
      "Layer (type)                 Output Shape              Param #   \n",
      "=================================================================\n",
      "embedding_3 (Embedding)      (None, 54, 100)           999800    \n",
      "_________________________________________________________________\n",
      "lstm_3 (LSTM)                (None, 10)                4440      \n",
      "_________________________________________________________________\n",
      "dense_6 (Dense)              (None, 10)                110       \n",
      "_________________________________________________________________\n",
      "dense_7 (Dense)              (None, 1)                 11        \n",
      "=================================================================\n",
      "Total params: 1,004,361\n",
      "Trainable params: 1,004,361\n",
      "Non-trainable params: 0\n",
      "_________________________________________________________________\n"
     ]
    }
   ],
   "source": [
    "from tensorflow.keras.initializers import Constant\n",
    "\n",
    "# LSTM 파라미터 증가\n",
    "model1 = keras.Sequential()\n",
    "model1.add(keras.layers.Embedding(vocab_size, \n",
    "                                     word_vector_dim, \n",
    "                                     embeddings_initializer=Constant(embedding_matrix),\n",
    "                                     input_length=54, \n",
    "                                     trainable=True))\n",
    "model1.add(keras.layers.LSTM(10))\n",
    "model1.add(keras.layers.Dense(10, activation='relu'))\n",
    "model1.add(keras.layers.Dense(1, activation='sigmoid'))\n",
    "\n",
    "model1.summary()"
   ]
  },
  {
   "cell_type": "code",
   "execution_count": 25,
   "id": "c66c16ea",
   "metadata": {},
   "outputs": [
    {
     "name": "stdout",
     "output_type": "stream",
     "text": [
      "Model: \"sequential_5\"\n",
      "_________________________________________________________________\n",
      "Layer (type)                 Output Shape              Param #   \n",
      "=================================================================\n",
      "embedding_4 (Embedding)      (None, 41, 100)           999800    \n",
      "_________________________________________________________________\n",
      "conv1d (Conv1D)              (None, 35, 16)            11216     \n",
      "_________________________________________________________________\n",
      "max_pooling1d (MaxPooling1D) (None, 7, 16)             0         \n",
      "_________________________________________________________________\n",
      "conv1d_1 (Conv1D)            (None, 1, 16)             1808      \n",
      "_________________________________________________________________\n",
      "global_max_pooling1d (Global (None, 16)                0         \n",
      "_________________________________________________________________\n",
      "dense_8 (Dense)              (None, 8)                 136       \n",
      "_________________________________________________________________\n",
      "dense_9 (Dense)              (None, 1)                 9         \n",
      "=================================================================\n",
      "Total params: 1,012,969\n",
      "Trainable params: 1,012,969\n",
      "Non-trainable params: 0\n",
      "_________________________________________________________________\n"
     ]
    }
   ],
   "source": [
    "# Conv 1D 활용 모델\n",
    "model2 = keras.Sequential()\n",
    "model2.add(keras.layers.Embedding(vocab_size, \n",
    "                                 word_vector_dim, \n",
    "                                 embeddings_initializer=Constant(embedding_matrix),  # 카피한 임베딩을 여기서 활용\n",
    "                                 input_length=maxlen, \n",
    "                                 trainable=True))\n",
    "model2.add(keras.layers.Conv1D(16, 7, activation='relu'))\n",
    "model2.add(keras.layers.MaxPooling1D(5))\n",
    "model2.add(keras.layers.Conv1D(16, 7, activation='relu'))\n",
    "model2.add(keras.layers.GlobalMaxPooling1D())\n",
    "model2.add(keras.layers.Dense(8, activation='relu'))\n",
    "model2.add(keras.layers.Dense(1, activation='sigmoid')) \n",
    "\n",
    "model2.summary()"
   ]
  },
  {
   "cell_type": "code",
   "execution_count": 26,
   "id": "f43db09b",
   "metadata": {},
   "outputs": [
    {
     "name": "stdout",
     "output_type": "stream",
     "text": [
      "Epoch 1/20\n",
      "WARNING:tensorflow:Model was constructed with shape (None, 54) for input KerasTensor(type_spec=TensorSpec(shape=(None, 54), dtype=tf.float32, name='embedding_3_input'), name='embedding_3_input', description=\"created by layer 'embedding_3_input'\"), but it was called on an input with incompatible shape (None, 41).\n",
      "WARNING:tensorflow:Model was constructed with shape (None, 54) for input KerasTensor(type_spec=TensorSpec(shape=(None, 54), dtype=tf.float32, name='embedding_3_input'), name='embedding_3_input', description=\"created by layer 'embedding_3_input'\"), but it was called on an input with incompatible shape (None, 41).\n",
      "225/229 [============================>.] - ETA: 0s - loss: 0.6406 - accuracy: 0.6086WARNING:tensorflow:Model was constructed with shape (None, 54) for input KerasTensor(type_spec=TensorSpec(shape=(None, 54), dtype=tf.float32, name='embedding_3_input'), name='embedding_3_input', description=\"created by layer 'embedding_3_input'\"), but it was called on an input with incompatible shape (None, 41).\n",
      "229/229 [==============================] - 4s 9ms/step - loss: 0.6388 - accuracy: 0.6108 - val_loss: 0.5250 - val_accuracy: 0.7523\n",
      "Epoch 2/20\n",
      "229/229 [==============================] - 2s 7ms/step - loss: 0.4649 - accuracy: 0.7903 - val_loss: 0.4337 - val_accuracy: 0.8063\n",
      "Epoch 3/20\n",
      "229/229 [==============================] - 2s 7ms/step - loss: 0.3918 - accuracy: 0.8311 - val_loss: 0.3982 - val_accuracy: 0.8250\n",
      "Epoch 4/20\n",
      "229/229 [==============================] - 2s 7ms/step - loss: 0.3560 - accuracy: 0.8503 - val_loss: 0.3825 - val_accuracy: 0.8351\n",
      "Epoch 5/20\n",
      "229/229 [==============================] - 2s 7ms/step - loss: 0.3316 - accuracy: 0.8625 - val_loss: 0.3715 - val_accuracy: 0.8377\n",
      "Epoch 6/20\n",
      "229/229 [==============================] - 2s 7ms/step - loss: 0.3161 - accuracy: 0.8700 - val_loss: 0.3662 - val_accuracy: 0.8403\n",
      "Epoch 7/20\n",
      "229/229 [==============================] - 2s 7ms/step - loss: 0.3020 - accuracy: 0.8759 - val_loss: 0.3670 - val_accuracy: 0.8429\n",
      "Epoch 8/20\n",
      "229/229 [==============================] - 2s 7ms/step - loss: 0.2910 - accuracy: 0.8824 - val_loss: 0.3687 - val_accuracy: 0.8435\n",
      "Epoch 9/20\n",
      "229/229 [==============================] - 2s 7ms/step - loss: 0.2801 - accuracy: 0.8871 - val_loss: 0.3697 - val_accuracy: 0.8431\n",
      "Epoch 10/20\n",
      "229/229 [==============================] - 2s 7ms/step - loss: 0.2724 - accuracy: 0.8916 - val_loss: 0.3731 - val_accuracy: 0.8441\n",
      "Epoch 11/20\n",
      "229/229 [==============================] - 2s 7ms/step - loss: 0.2634 - accuracy: 0.8966 - val_loss: 0.3740 - val_accuracy: 0.8428\n",
      "Epoch 12/20\n",
      "229/229 [==============================] - 2s 7ms/step - loss: 0.2550 - accuracy: 0.8997 - val_loss: 0.3778 - val_accuracy: 0.8425\n",
      "Epoch 13/20\n",
      "229/229 [==============================] - 2s 7ms/step - loss: 0.2483 - accuracy: 0.9040 - val_loss: 0.3818 - val_accuracy: 0.8429\n",
      "Epoch 14/20\n",
      "229/229 [==============================] - 2s 7ms/step - loss: 0.2405 - accuracy: 0.9073 - val_loss: 0.3851 - val_accuracy: 0.8433\n",
      "Epoch 15/20\n",
      "229/229 [==============================] - 2s 7ms/step - loss: 0.2341 - accuracy: 0.9106 - val_loss: 0.3904 - val_accuracy: 0.8435\n",
      "Epoch 16/20\n",
      "229/229 [==============================] - 2s 7ms/step - loss: 0.2277 - accuracy: 0.9137 - val_loss: 0.3923 - val_accuracy: 0.8444\n",
      "Epoch 17/20\n",
      "229/229 [==============================] - 2s 7ms/step - loss: 0.2215 - accuracy: 0.9166 - val_loss: 0.4002 - val_accuracy: 0.8423\n",
      "Epoch 18/20\n",
      "229/229 [==============================] - 2s 7ms/step - loss: 0.2142 - accuracy: 0.9205 - val_loss: 0.4125 - val_accuracy: 0.8417\n",
      "Epoch 19/20\n",
      "229/229 [==============================] - 2s 7ms/step - loss: 0.2078 - accuracy: 0.9238 - val_loss: 0.4187 - val_accuracy: 0.8408\n",
      "Epoch 20/20\n",
      "229/229 [==============================] - 2s 7ms/step - loss: 0.2027 - accuracy: 0.9258 - val_loss: 0.4202 - val_accuracy: 0.8411\n"
     ]
    }
   ],
   "source": [
    "# 모델 훈련 개시\n",
    "model1.compile(optimizer='adam',\n",
    "              loss='binary_crossentropy',\n",
    "              metrics=['accuracy'])\n",
    "\n",
    "history = model1.fit(X_train, y_train, epochs=20, batch_size=512, validation_data=(X_test, y_test), verbose=1)"
   ]
  },
  {
   "cell_type": "code",
   "execution_count": 27,
   "id": "79b94638",
   "metadata": {},
   "outputs": [
    {
     "name": "stdout",
     "output_type": "stream",
     "text": [
      "dict_keys(['loss', 'accuracy', 'val_loss', 'val_accuracy'])\n"
     ]
    },
    {
     "data": {
      "image/png": "[encoded data removed]",
      "text/plain": [
       "<Figure size 432x288 with 1 Axes>"
      ]
     },
     "metadata": {
      "needs_background": "light"
     },
     "output_type": "display_data"
    }
   ],
   "source": [
    "# Loss, Accuracy 그래프 시각화\n",
    "import matplotlib.pyplot as plt\n",
    "\n",
    "history_dict = history.history\n",
    "print(history_dict.keys()) # epoch에 따른 그래프를 그려볼 수 있는 항목들\n",
    "\n",
    "acc = history_dict['accuracy']\n",
    "val_acc = history_dict['val_accuracy']\n",
    "loss = history_dict['loss']\n",
    "val_loss = history_dict['val_loss']\n",
    "\n",
    "epochs = range(1, len(acc) + 1)\n",
    "\n",
    "# \"bo\"는 \"파란색 점\"입니다\n",
    "plt.plot(epochs, loss, 'bo', label='Training loss')\n",
    "# b는 \"파란 실선\"입니다\n",
    "plt.plot(epochs, val_loss, 'b', label='Validation loss')\n",
    "plt.title('Training and validation loss')\n",
    "plt.xlabel('Epochs')\n",
    "plt.ylabel('Loss')\n",
    "plt.legend()\n",
    "plt.show()"
   ]
  },
  {
   "cell_type": "code",
   "execution_count": 28,
   "id": "c2a61483",
   "metadata": {},
   "outputs": [
    {
     "name": "stdout",
     "output_type": "stream",
     "text": [
      "Accuracy: 83.92%\n"
     ]
    }
   ],
   "source": [
    "loss, accuracy = model.evaluate(X_test, y_test, verbose=0)\n",
    "print(f'Accuracy: {accuracy*100:.2f}%')"
   ]
  },
  {
   "cell_type": "code",
   "execution_count": 29,
   "id": "35a5df6b",
   "metadata": {},
   "outputs": [
    {
     "name": "stdout",
     "output_type": "stream",
     "text": [
      "Epoch 1/20\n",
      "229/229 [==============================] - 4s 9ms/step - loss: 0.5974 - accuracy: 0.6684 - val_loss: 0.5130 - val_accuracy: 0.7524\n",
      "Epoch 2/20\n",
      "229/229 [==============================] - 1s 6ms/step - loss: 0.4632 - accuracy: 0.7841 - val_loss: 0.4447 - val_accuracy: 0.7955\n",
      "Epoch 3/20\n",
      "229/229 [==============================] - 1s 6ms/step - loss: 0.3990 - accuracy: 0.8226 - val_loss: 0.4132 - val_accuracy: 0.8141\n",
      "Epoch 4/20\n",
      "229/229 [==============================] - 1s 6ms/step - loss: 0.3596 - accuracy: 0.8434 - val_loss: 0.3912 - val_accuracy: 0.8257\n",
      "Epoch 5/20\n",
      "229/229 [==============================] - 1s 6ms/step - loss: 0.3316 - accuracy: 0.8573 - val_loss: 0.3846 - val_accuracy: 0.8314\n",
      "Epoch 6/20\n",
      "229/229 [==============================] - 1s 6ms/step - loss: 0.3106 - accuracy: 0.8674 - val_loss: 0.3741 - val_accuracy: 0.8371\n",
      "Epoch 7/20\n",
      "229/229 [==============================] - 1s 6ms/step - loss: 0.2933 - accuracy: 0.8764 - val_loss: 0.3771 - val_accuracy: 0.8399\n",
      "Epoch 8/20\n",
      "229/229 [==============================] - 1s 6ms/step - loss: 0.2788 - accuracy: 0.8841 - val_loss: 0.3775 - val_accuracy: 0.8394\n",
      "Epoch 9/20\n",
      "229/229 [==============================] - 1s 6ms/step - loss: 0.2659 - accuracy: 0.8905 - val_loss: 0.3782 - val_accuracy: 0.8422\n",
      "Epoch 10/20\n",
      "229/229 [==============================] - 1s 6ms/step - loss: 0.2522 - accuracy: 0.8973 - val_loss: 0.3863 - val_accuracy: 0.8408\n",
      "Epoch 11/20\n",
      "229/229 [==============================] - 1s 7ms/step - loss: 0.2435 - accuracy: 0.9012 - val_loss: 0.3981 - val_accuracy: 0.8382\n",
      "Epoch 12/20\n",
      "229/229 [==============================] - 1s 6ms/step - loss: 0.2304 - accuracy: 0.9072 - val_loss: 0.3959 - val_accuracy: 0.8398\n",
      "Epoch 13/20\n",
      "229/229 [==============================] - 2s 7ms/step - loss: 0.2202 - accuracy: 0.9127 - val_loss: 0.4104 - val_accuracy: 0.8395\n",
      "Epoch 14/20\n",
      "229/229 [==============================] - 1s 6ms/step - loss: 0.2094 - accuracy: 0.9184 - val_loss: 0.4259 - val_accuracy: 0.8376\n",
      "Epoch 15/20\n",
      "229/229 [==============================] - 1s 6ms/step - loss: 0.2008 - accuracy: 0.9220 - val_loss: 0.4425 - val_accuracy: 0.8370\n",
      "Epoch 16/20\n",
      "229/229 [==============================] - 1s 6ms/step - loss: 0.1902 - accuracy: 0.9275 - val_loss: 0.4617 - val_accuracy: 0.8341\n",
      "Epoch 17/20\n",
      "229/229 [==============================] - 1s 6ms/step - loss: 0.1816 - accuracy: 0.9302 - val_loss: 0.4608 - val_accuracy: 0.8345\n",
      "Epoch 18/20\n",
      "229/229 [==============================] - 1s 6ms/step - loss: 0.1718 - accuracy: 0.9353 - val_loss: 0.4793 - val_accuracy: 0.8309\n",
      "Epoch 19/20\n",
      "229/229 [==============================] - 1s 6ms/step - loss: 0.1631 - accuracy: 0.9393 - val_loss: 0.4882 - val_accuracy: 0.8308\n",
      "Epoch 20/20\n",
      "229/229 [==============================] - 1s 6ms/step - loss: 0.1551 - accuracy: 0.9428 - val_loss: 0.5204 - val_accuracy: 0.8297\n"
     ]
    }
   ],
   "source": [
    "# 모델 훈련 개시\n",
    "model2.compile(optimizer='adam',\n",
    "              loss='binary_crossentropy',\n",
    "              metrics=['accuracy'])\n",
    "\n",
    "history = model2.fit(X_train, y_train, epochs=20, batch_size=512, validation_data=(X_test, y_test), verbose=1)"
   ]
  },
  {
   "cell_type": "code",
   "execution_count": 30,
   "id": "9e9d4803",
   "metadata": {},
   "outputs": [
    {
     "name": "stdout",
     "output_type": "stream",
     "text": [
      "dict_keys(['loss', 'accuracy', 'val_loss', 'val_accuracy'])\n"
     ]
    },
    {
     "data": {
      "image/png": "[encoded data removed]",
      "text/plain": [
       "<Figure size 432x288 with 1 Axes>"
      ]
     },
     "metadata": {
      "needs_background": "light"
     },
     "output_type": "display_data"
    }
   ],
   "source": [
    "# Loss, Accuracy 그래프 시각화\n",
    "import matplotlib.pyplot as plt\n",
    "\n",
    "history_dict = history.history\n",
    "print(history_dict.keys()) # epoch에 따른 그래프를 그려볼 수 있는 항목들\n",
    "\n",
    "acc = history_dict['accuracy']\n",
    "val_acc = history_dict['val_accuracy']\n",
    "loss = history_dict['loss']\n",
    "val_loss = history_dict['val_loss']\n",
    "\n",
    "epochs = range(1, len(acc) + 1)\n",
    "\n",
    "# \"bo\"는 \"파란색 점\"입니다\n",
    "plt.plot(epochs, loss, 'bo', label='Training loss')\n",
    "# b는 \"파란 실선\"입니다\n",
    "plt.plot(epochs, val_loss, 'b', label='Validation loss')\n",
    "plt.title('Training and validation loss')\n",
    "plt.xlabel('Epochs')\n",
    "plt.ylabel('Loss')\n",
    "plt.legend()\n",
    "plt.show()"
   ]
  },
  {
   "cell_type": "code",
   "execution_count": 31,
   "id": "b37acc6c",
   "metadata": {},
   "outputs": [
    {
     "name": "stdout",
     "output_type": "stream",
     "text": [
      "Accuracy: 83.92%\n"
     ]
    }
   ],
   "source": [
    "loss, accuracy = model.evaluate(X_test, y_test, verbose=0)\n",
    "print(f'Accuracy: {accuracy*100:.2f}%')"
   ]
  },
  {
   "cell_type": "code",
   "execution_count": null,
   "id": "4493f803",
   "metadata": {},
   "outputs": [],
   "source": []
  }
 ],
 "metadata": {
  "kernelspec": {
   "display_name": "Python 3 (ipykernel)",
   "language": "python",
   "name": "python3"
  },
  "language_info": {
   "codemirror_mode": {
    "name": "ipython",
    "version": 3
   },
   "file_extension": ".py",
   "mimetype": "text/x-python",
   "name": "python",
   "nbconvert_exporter": "python",
   "pygments_lexer": "ipython3",
   "version": "3.10.14"
  }
 },
 "nbformat": 4,
 "nbformat_minor": 5
}
